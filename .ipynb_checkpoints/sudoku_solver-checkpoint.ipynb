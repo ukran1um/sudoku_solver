{
 "cells": [
  {
   "cell_type": "markdown",
   "metadata": {},
   "source": [
    "### A sudoku solver program developed as a project in the Udacity AI Engineer Nanodegree program"
   ]
  },
  {
   "cell_type": "markdown",
   "metadata": {},
   "source": [
    "'Units' are columns / rows / 3X3 squares of a sudoku board that will each need to contain #'s 1-9\n",
    "'Boxes' are the individual cells in the sudoku board"
   ]
  },
  {
   "cell_type": "code",
   "execution_count": 152,
   "metadata": {
    "collapsed": false
   },
   "outputs": [],
   "source": [
    "rows = 'ABCDEFGHI'\n",
    "cols = '123456789'\n",
    "\n",
    "def cross(a,b):\n",
    "    \"\"\"given two strings — a and b,\n",
    "return the list formed by all the possible concatenations of a letter s \n",
    "in string a with a letter t in string b.\"\"\"\n",
    "    return [s+t for s in a for t in b]\n",
    "\n",
    "\n",
    "\n",
    "boxes = cross(rows,cols)\n",
    "\n",
    "row_units = [cross(r, cols) for r in rows]\n",
    "# Element example:\n",
    "# row_units[0] = ['A1', 'A2', 'A3', 'A4', 'A5', 'A6', 'A7', 'A8', 'A9']\n",
    "# This is the top most row.\n",
    "\n",
    "column_units = [cross(rows, c) for c in cols]\n",
    "# Element example:\n",
    "# column_units[0] = ['A1', 'B1', 'C1', 'D1', 'E1', 'F1', 'G1', 'H1', 'I1']\n",
    "# This is the left most column.\n",
    "\n",
    "square_units = [cross(rs, cs) for rs in ('ABC','DEF','GHI') for cs in ('123','456','789')]\n",
    "# Element example:\n",
    "# square_units[0] = ['A1', 'A2', 'A3', 'B1', 'B2', 'B3', 'C1', 'C2', 'C3']\n",
    "# This is the top left square.\n",
    "\n",
    "diagonal_units = [[a+b for a,b in zip(rows,cols)]] + [[a+b for a,b in zip(rows,\"987654321\")]]\n",
    "\n",
    "unitlist = row_units + column_units + square_units + diagonal_units\n",
    "units = dict((s, [u for u in unitlist if s in u]) for s in boxes)\n",
    "peers = dict((s, set(sum(units[s],[]))-set([s])) for s in boxes)\n"
   ]
  },
  {
   "cell_type": "code",
   "execution_count": 168,
   "metadata": {
    "collapsed": false
   },
   "outputs": [
    {
     "data": {
      "text/plain": [
       "[['A1', 'A2', 'A3', 'A4', 'A5', 'A6', 'A7', 'A8', 'A9'],\n",
       " ['B1', 'B2', 'B3', 'B4', 'B5', 'B6', 'B7', 'B8', 'B9'],\n",
       " ['C1', 'C2', 'C3', 'C4', 'C5', 'C6', 'C7', 'C8', 'C9'],\n",
       " ['D1', 'D2', 'D3', 'D4', 'D5', 'D6', 'D7', 'D8', 'D9'],\n",
       " ['E1', 'E2', 'E3', 'E4', 'E5', 'E6', 'E7', 'E8', 'E9'],\n",
       " ['F1', 'F2', 'F3', 'F4', 'F5', 'F6', 'F7', 'F8', 'F9'],\n",
       " ['G1', 'G2', 'G3', 'G4', 'G5', 'G6', 'G7', 'G8', 'G9'],\n",
       " ['H1', 'H2', 'H3', 'H4', 'H5', 'H6', 'H7', 'H8', 'H9'],\n",
       " ['I1', 'I2', 'I3', 'I4', 'I5', 'I6', 'I7', 'I8', 'I9'],\n",
       " ['A1', 'B1', 'C1', 'D1', 'E1', 'F1', 'G1', 'H1', 'I1'],\n",
       " ['A2', 'B2', 'C2', 'D2', 'E2', 'F2', 'G2', 'H2', 'I2'],\n",
       " ['A3', 'B3', 'C3', 'D3', 'E3', 'F3', 'G3', 'H3', 'I3'],\n",
       " ['A4', 'B4', 'C4', 'D4', 'E4', 'F4', 'G4', 'H4', 'I4'],\n",
       " ['A5', 'B5', 'C5', 'D5', 'E5', 'F5', 'G5', 'H5', 'I5'],\n",
       " ['A6', 'B6', 'C6', 'D6', 'E6', 'F6', 'G6', 'H6', 'I6'],\n",
       " ['A7', 'B7', 'C7', 'D7', 'E7', 'F7', 'G7', 'H7', 'I7'],\n",
       " ['A8', 'B8', 'C8', 'D8', 'E8', 'F8', 'G8', 'H8', 'I8'],\n",
       " ['A9', 'B9', 'C9', 'D9', 'E9', 'F9', 'G9', 'H9', 'I9'],\n",
       " ['A1', 'A2', 'A3', 'B1', 'B2', 'B3', 'C1', 'C2', 'C3'],\n",
       " ['A4', 'A5', 'A6', 'B4', 'B5', 'B6', 'C4', 'C5', 'C6'],\n",
       " ['A7', 'A8', 'A9', 'B7', 'B8', 'B9', 'C7', 'C8', 'C9'],\n",
       " ['D1', 'D2', 'D3', 'E1', 'E2', 'E3', 'F1', 'F2', 'F3'],\n",
       " ['D4', 'D5', 'D6', 'E4', 'E5', 'E6', 'F4', 'F5', 'F6'],\n",
       " ['D7', 'D8', 'D9', 'E7', 'E8', 'E9', 'F7', 'F8', 'F9'],\n",
       " ['G1', 'G2', 'G3', 'H1', 'H2', 'H3', 'I1', 'I2', 'I3'],\n",
       " ['G4', 'G5', 'G6', 'H4', 'H5', 'H6', 'I4', 'I5', 'I6'],\n",
       " ['G7', 'G8', 'G9', 'H7', 'H8', 'H9', 'I7', 'I8', 'I9'],\n",
       " ['A1', 'B2', 'C3', 'D4', 'E5', 'F6', 'G7', 'H8', 'I9'],\n",
       " ['A9', 'B8', 'C7', 'D6', 'E5', 'F4', 'G3', 'H2', 'I1']]"
      ]
     },
     "execution_count": 168,
     "metadata": {},
     "output_type": "execute_result"
    }
   ],
   "source": [
    "unitlist"
   ]
  },
  {
   "cell_type": "code",
   "execution_count": 153,
   "metadata": {
    "collapsed": true
   },
   "outputs": [],
   "source": [
    "def grid_values(grid):\n",
    "    \"\"\"Convert grid string into {<box>: <value>} dict with '123456789' value for empties.\n",
    "\n",
    "    Args:\n",
    "        grid: Sudoku grid in string form, 81 characters long\n",
    "    Returns:\n",
    "        Sudoku grid in dictionary form:\n",
    "        - keys: Box labels, e.g. 'A1'\n",
    "        - values: Value in corresponding box, e.g. '8', or '123456789' if it is empty.\n",
    "    \"\"\"\n",
    "    grid_dict = {}\n",
    "    for box, value in zip(boxes,grid):\n",
    "        grid_dict[box] = value.replace(\".\", \"123456789\")\n",
    "    return grid_dict\n",
    "        "
   ]
  },
  {
   "cell_type": "code",
   "execution_count": 154,
   "metadata": {
    "collapsed": true
   },
   "outputs": [],
   "source": [
    "test_string = '..3.2.6..9..3.5..1..18.64....81.29..7.......8..67.82....26.95..8..2.3..9..5.1.3..'"
   ]
  },
  {
   "cell_type": "code",
   "execution_count": null,
   "metadata": {
    "collapsed": true
   },
   "outputs": [],
   "source": []
  },
  {
   "cell_type": "code",
   "execution_count": 155,
   "metadata": {
    "collapsed": true
   },
   "outputs": [],
   "source": [
    "def display(values):\n",
    "    \"\"\"\n",
    "    Display the values as a 2-D grid.\n",
    "    Input: The sudoku in dictionary form\n",
    "    Output: None\n",
    "    \"\"\"\n",
    "    width = 1+max(len(values[s]) for s in boxes)\n",
    "    line = '+'.join(['-'*(width*3)]*3)\n",
    "    for r in rows:\n",
    "        print(''.join(values[r+c].center(width)+('|' if c in '36' else '')\n",
    "                      for c in cols))\n",
    "        if r in 'CF': print(line)\n",
    "    return"
   ]
  },
  {
   "cell_type": "code",
   "execution_count": 156,
   "metadata": {
    "collapsed": false
   },
   "outputs": [
    {
     "name": "stdout",
     "output_type": "stream",
     "text": [
      "123456789 123456789     3     |123456789     2     123456789 |    6     123456789 123456789 \n",
      "    9     123456789 123456789 |    3     123456789     5     |123456789 123456789     1     \n",
      "123456789 123456789     1     |    8     123456789     6     |    4     123456789 123456789 \n",
      "------------------------------+------------------------------+------------------------------\n",
      "123456789 123456789     8     |    1     123456789     2     |    9     123456789 123456789 \n",
      "    7     123456789 123456789 |123456789 123456789 123456789 |123456789 123456789     8     \n",
      "123456789 123456789     6     |    7     123456789     8     |    2     123456789 123456789 \n",
      "------------------------------+------------------------------+------------------------------\n",
      "123456789 123456789     2     |    6     123456789     9     |    5     123456789 123456789 \n",
      "    8     123456789 123456789 |    2     123456789     3     |123456789 123456789     9     \n",
      "123456789 123456789     5     |123456789     1     123456789 |    3     123456789 123456789 \n"
     ]
    }
   ],
   "source": [
    "display(grid_values(test_string))"
   ]
  },
  {
   "cell_type": "code",
   "execution_count": 157,
   "metadata": {
    "collapsed": true
   },
   "outputs": [],
   "source": [
    "def eliminate(values):\n",
    "    \"\"\"Eliminate values from peers of each box with a single value.\n",
    "\n",
    "    Go through all the boxes, and whenever there is a box with a single value,\n",
    "    eliminate this value from the set of values of all its peers.\n",
    "\n",
    "    Args:\n",
    "        values: Sudoku in dictionary form.\n",
    "    Returns:\n",
    "        Resulting Sudoku in dictionary form after eliminating values.\n",
    "    \"\"\"\n",
    "    solved_values = [box for box in values.keys() if len(values[box]) == 1]\n",
    "    for box in solved_values:\n",
    "        digit = values[box]\n",
    "        for peer in peers[box]:\n",
    "            values[peer] = values[peer].replace(digit,'')\n",
    "    return values"
   ]
  },
  {
   "cell_type": "code",
   "execution_count": 158,
   "metadata": {
    "collapsed": false
   },
   "outputs": [
    {
     "name": "stdout",
     "output_type": "stream",
     "text": [
      "   4     4578    3   |  149     2     147  |   6     5789    5   \n",
      "   9     2467    47  |   3      47     5   |   78     8      1   \n",
      "   25    257     1   |   8      79     6   |   4    23579   2357 \n",
      "---------------------+---------------------+---------------------\n",
      " 12345  12345    8   |         3456        |   9    134567 34567 \n",
      "   7    123459   49  |  1459   369    124  |   1    13456    8   \n",
      "  1345  13459    6   |   7     3459    8   |   2     1345   345  \n",
      "---------------------+---------------------+---------------------\n",
      "  134    1347    2   |   6     478     9   |   5     1478    47  \n",
      "   8      16     47  |   2     457     3   |   17    467     9   \n",
      "   6     4679    5   |   4      1      47  |   3    24678   2467 \n"
     ]
    }
   ],
   "source": [
    "display(eliminate(grid_values(test_string)))"
   ]
  },
  {
   "cell_type": "code",
   "execution_count": 159,
   "metadata": {
    "collapsed": true
   },
   "outputs": [],
   "source": [
    "def only_choice(values):\n",
    "    \"\"\"Finalize all values that are the only choice for a unit.\n",
    "\n",
    "    Go through all the units, and whenever there is a unit with a value\n",
    "    that only fits in one box, assign the value to this box.\n",
    "\n",
    "    Input: Sudoku in dictionary form.\n",
    "    Output: Resulting Sudoku in dictionary form after filling in only choices.\n",
    "    \"\"\"\n",
    "    \n",
    "    \n",
    "    for unit in unitlist:\n",
    "        for digit in '123456789':\n",
    "            inboxlist=[box for box in unit if digit in values[box]]\n",
    "            if len(inboxlist) == 1:\n",
    "                values[inboxlist[0]] = digit\n",
    "    return values"
   ]
  },
  {
   "cell_type": "code",
   "execution_count": 160,
   "metadata": {
    "collapsed": false
   },
   "outputs": [
    {
     "name": "stdout",
     "output_type": "stream",
     "text": [
      "   4      8      3   |   9      2      1   |   6      9      5   \n",
      "   9      2      47  |   3      4      5   |   8      8      1   \n",
      "   25    257     1   |   8      7      6   |   4      2      3   \n",
      "---------------------+---------------------+---------------------\n",
      " 12345  12345    8   |         3456        |   9    134567 34567 \n",
      "   7    123459   9   |   5      3      2   |   1    13456    8   \n",
      "  1345  13459    6   |   7     3459    8   |   2     1345   345  \n",
      "---------------------+---------------------+---------------------\n",
      "  134    1347    2   |   6      8      9   |   5     1478    47  \n",
      "   8      6      47  |   2      5      3   |   17     6      9   \n",
      "   6      9      5   |   4      1      7   |   3      8      2   \n"
     ]
    }
   ],
   "source": [
    "display(only_choice(eliminate(grid_values(test_string))))"
   ]
  },
  {
   "cell_type": "code",
   "execution_count": 182,
   "metadata": {
    "collapsed": false
   },
   "outputs": [],
   "source": [
    "def naked_twins(values):\n",
    "    \"\"\"Eliminate values using the naked twins strategy.\n",
    "    Args:\n",
    "        values(dict): a dictionary of the form {'box_name': '123456789', ...}\n",
    "\n",
    "    Returns:\n",
    "        the values dictionary with the naked twins eliminated from peers.\n",
    "    \"\"\"\n",
    "\n",
    "    # Find all instances of naked twins\n",
    "    for unit in unitlist:\n",
    "        \n",
    "        #list all of the different values in a unit\n",
    "        unitvals = [values[box] for box in unit]\n",
    "        \n",
    "        #take out values that occur the same number of times in a unit as their length (so twins/triplets etc..)\n",
    "        purgevals = set([value for value in unitvals if ((unitvals.count(value)>1) &\n",
    "                                                  (len(value)==unitvals.count(value)))])\n",
    "         \n",
    "        #purge digits from the other boxes in the same unit\n",
    "        for vals in purgevals:\n",
    "            for box in unit:\n",
    "                if (set(values[box]) != set(vals))&(len(values[box])>1):\n",
    "                    for digit in vals:\n",
    "                        values[box] = values[box].replace(digit,\"\")\n",
    "    return values\n",
    "    \n",
    "    "
   ]
  },
  {
   "cell_type": "code",
   "execution_count": 183,
   "metadata": {
    "collapsed": false
   },
   "outputs": [
    {
     "name": "stdout",
     "output_type": "stream",
     "text": [
      "   4     4578    3   |  149     2     147  |   6     5789    5   \n",
      "   9     2467    47  |   3      47     5   |   78     8      1   \n",
      "   25    257     1   |   8      79     6   |   4    23579   2357 \n",
      "---------------------+---------------------+---------------------\n",
      " 12345  12345    8   |         3456        |   9    134567 34567 \n",
      "   7    123459   49  |  1459   369    124  |   1    13456    8   \n",
      "  1345  13459    6   |   7     3459    8   |   2     1345   345  \n",
      "---------------------+---------------------+---------------------\n",
      "  134    1347    2   |   6     478     9   |   5     1478    47  \n",
      "   8      16     47  |   2     457     3   |   17    467     9   \n",
      "   6     4679    5   |   4      1      47  |   3    24678   2467 \n"
     ]
    }
   ],
   "source": [
    "display(eliminate(grid_values(test_string)))"
   ]
  },
  {
   "cell_type": "code",
   "execution_count": 184,
   "metadata": {
    "collapsed": false
   },
   "outputs": [
    {
     "name": "stdout",
     "output_type": "stream",
     "text": [
      "   4     4578    3   |  149     2     147  |   6     5789    5   \n",
      "   9      26     47  |   3      47     5   |   8      8      1   \n",
      "   25    257     1   |   8      79     6   |   4    23579   2357 \n",
      "---------------------+---------------------+---------------------\n",
      " 12345  12345    8   |         3456        |   9    134567 34567 \n",
      "   7    123459   9   |  1459   369    124  |   1    13456    8   \n",
      "  1345  13459    6   |   7     3459    8   |   2     1345   345  \n",
      "---------------------+---------------------+---------------------\n",
      "  134    1347    2   |   6     478     9   |   5     1478    47  \n",
      "   8      16     47  |   2     457     3   |   17    467     9   \n",
      "   6     4679    5   |   4      1      47  |   3    24678   2467 \n"
     ]
    }
   ],
   "source": [
    "display(naked_twins(eliminate(grid_values(test_string))))"
   ]
  },
  {
   "cell_type": "code",
   "execution_count": 185,
   "metadata": {
    "collapsed": false
   },
   "outputs": [],
   "source": [
    "def reduce_puzzle(values):\n",
    "    stalled = False\n",
    "    while not stalled:\n",
    "        # Check how many boxes have a determined value\n",
    "        solved_values_before = len([box for box in values.keys() if len(values[box]) == 1])\n",
    "        print(\"before elim\")\n",
    "        display(values)\n",
    "        values = eliminate(values)\n",
    "        print(\"before only\")\n",
    "        display(values)\n",
    "        values = only_choice(values)\n",
    "        print(\"before naked\")\n",
    "        display(values)\n",
    "        \n",
    "        values = naked_twins(values)\n",
    "        # Check how many boxes have a determined value, to compare\n",
    "        solved_values_after = len([box for box in values.keys() if len(values[box]) == 1])\n",
    "        # If no new values were added, stop the loop.\n",
    "        stalled = solved_values_before == solved_values_after\n",
    "        # Sanity check, return False if there is a box with zero available values:\n",
    "        if len([box for box in values.keys() if len(values[box]) == 0]):\n",
    "            print(\"last one to fail\")\n",
    "            display(values)\n",
    "            return False\n",
    "    return values"
   ]
  },
  {
   "cell_type": "code",
   "execution_count": 186,
   "metadata": {
    "collapsed": true
   },
   "outputs": [],
   "source": [
    "test_string2 = '4.....8.5.3..........7......2.....6.....8.4......1.......6.3.7.5..2.....1.4......'\n"
   ]
  },
  {
   "cell_type": "code",
   "execution_count": 187,
   "metadata": {
    "collapsed": true
   },
   "outputs": [],
   "source": [
    "def search(values):\n",
    "    \"Using depth-first search and propagation, create a search tree and solve the sudoku.\"\n",
    "    # First, reduce the puzzle using the previous function\n",
    "\n",
    "    values = reduce_puzzle(values)\n",
    "\n",
    "    if values is False:\n",
    "        return False\n",
    "    elif all(len(values[box]) == 1 for box in boxes): \n",
    "        return values\n",
    "    # Choose one of the unfilled squares with the fewest possibilities\n",
    "    \n",
    "    _,box = min((len(values[box]),box) for box in boxes if len(values[box])>1)    \n",
    "    \n",
    "    # Now use recursion to solve each one of the resulting sudokus, and if one returns a value (not False), return that answer!\n",
    "\n",
    "    for digit in values[box]:\n",
    "        try_dict = values.copy()\n",
    "        try_dict[box] = digit\n",
    "        try_result = search(try_dict)\n",
    "        if try_result:\n",
    "            return try_result"
   ]
  },
  {
   "cell_type": "code",
   "execution_count": 188,
   "metadata": {
    "collapsed": false,
    "scrolled": false
   },
   "outputs": [
    {
     "name": "stdout",
     "output_type": "stream",
     "text": [
      "before elim\n",
      "    4     123456789 123456789 |123456789 123456789 123456789 |    8     123456789     5     \n",
      "123456789     3     123456789 |123456789 123456789 123456789 |123456789 123456789 123456789 \n",
      "123456789 123456789 123456789 |    7     123456789 123456789 |123456789 123456789 123456789 \n",
      "------------------------------+------------------------------+------------------------------\n",
      "123456789     2     123456789 |123456789 123456789 123456789 |123456789     6     123456789 \n",
      "123456789 123456789 123456789 |123456789     8     123456789 |    4     123456789 123456789 \n",
      "123456789 123456789 123456789 |123456789     1     123456789 |123456789 123456789 123456789 \n",
      "------------------------------+------------------------------+------------------------------\n",
      "123456789 123456789 123456789 |    6     123456789     3     |123456789     7     123456789 \n",
      "    5     123456789 123456789 |    2     123456789 123456789 |123456789 123456789 123456789 \n",
      "    1     123456789     4     |123456789 123456789 123456789 |123456789 123456789 123456789 \n",
      "before only\n",
      "   4      1679   12679  |  139     2369    1269  |   8      1239     5    \n",
      " 26789     3    1256789 | 14589   24569  1245689 | 12679    249    124679 \n",
      "  2689   15689   12569  |   7     234569 1245689 |  2369   12349   123469 \n",
      "------------------------+------------------------+------------------------\n",
      "  3789     2     135789 |   59    34579    479   | 13579     6     13789  \n",
      "  3679   15679   135679 |  359      8     25679  |   4     12359   12379  \n",
      " 36789   456789  356789 |  349      1     25679  | 23579   23589   23789  \n",
      "------------------------+------------------------+------------------------\n",
      "  289      89      29   |   6      459      3    |  1259     7     12489  \n",
      "   5      679    36789  |   2      479    14789  |  1369     19    134689 \n",
      "   1      6789     4    |  589     579     5789  | 23569   23589    269   \n",
      "before naked\n",
      "   4      1679   12679  |  139     2369    1269  |   8      1239     5    \n",
      " 26789     3    1256789 | 14589   24569  1245689 | 12679    249    124679 \n",
      "  2689   15689   12569  |   7     234569 1245689 |  2369   12349   123469 \n",
      "------------------------+------------------------+------------------------\n",
      "  3789     2     135789 |   59    34579    479   | 13579     6     13789  \n",
      "  3679   15679   135679 |  359      8     25679  |   4     12359   12379  \n",
      " 36789     4     356789 |  349      1       7    | 23579   23589   23789  \n",
      "------------------------+------------------------+------------------------\n",
      "  289      89      29   |   6      459      3    |  1259     7     12489  \n",
      "   5      679      3    |   2      479      1    |  1369     19    134689 \n",
      "   1      6789     4    |  589     579     5789  | 23569   23589    269   \n",
      "before elim\n",
      "   4      1679   12679  |  139     2369    1269  |   8      1239     5    \n",
      " 26789     3    1256789 | 14589   24569  1245689 | 12679    249    124679 \n",
      "  2689   15689   12569  |   7     234569 1245689 |  2369   12349   123469 \n",
      "------------------------+------------------------+------------------------\n",
      "  3789     2     135789 |   59    34579    479   | 13579     6     13789  \n",
      "  3679   15679   135679 |  359      8     25679  |   4     12359   12379  \n",
      " 36789     4     356789 |  349      1       7    | 23579   23589   23789  \n",
      "------------------------+------------------------+------------------------\n",
      "  289      89      29   |   6      459      3    |  1259     7     12489  \n",
      "   5      679      3    |   2      479      1    |  1369     19    134689 \n",
      "   1      6789     4    |  589     579     5789  | 23569   23589    269   \n",
      "before only\n",
      "   4      1679   12679  |  139     2369    269   |   8      1239     5    \n",
      " 26789     3    1256789 | 14589   24569   245689 | 12679    249    124679 \n",
      "  2689   15689   12569  |   7     234569  245689 |  2369   12349   123469 \n",
      "------------------------+------------------------+------------------------\n",
      "  3789     2     15789  |   59     3459     49   | 13579     6     13789  \n",
      "  3679   15679   15679  |  359      8      2569  |   4     12359   12379  \n",
      "  3689     4      5689  |   39      1       7    |  2359   23589    2389  \n",
      "------------------------+------------------------+------------------------\n",
      "  289      89      29   |   6      459      3    |  1259     7     12489  \n",
      "   5      679      3    |   2      479      1    |   69      9      4689  \n",
      "   1      6789     4    |  589     579     589   | 23569   23589    269   \n",
      "before naked\n",
      "   4      1679   12679  |   1      2369    269   |   8      1239     5    \n",
      " 26789     3    1256789 |   4     24569   245689 | 12679    249    124679 \n",
      "  2689   15689   12569  |   7     234569  245689 |  2369   12349   123469 \n",
      "------------------------+------------------------+------------------------\n",
      "  3789     2     15789  |   59     3459     49   | 13579     6     13789  \n",
      "  3679   15679   15679  |  359      8       2    |   4     12359   12379  \n",
      "  3689     4      5689  |   39      1       7    |  2359   23589    2389  \n",
      "------------------------+------------------------+------------------------\n",
      "  289      89      29   |   6      459      3    |  1259     7       4    \n",
      "   5       7       3    |   2      479      1    |   69      9       8    \n",
      "   1      6789     4    |   8      579     589   | 23569   23589    269   \n",
      "before elim\n",
      "   4      1679   12679  |   1      2369    269   |   8      1239     5    \n",
      " 26789     3    1256789 |   4     24569   245689 | 12679    249    124679 \n",
      "  2689   15689   12569  |   7     234569  245689 |  2369   12349   123469 \n",
      "------------------------+------------------------+------------------------\n",
      "  3789     2     15789  |   59     3459     49   | 13579     6     13789  \n",
      "  3679   15679   15679  |  359      8       2    |   4     12359   12379  \n",
      "  3689     4      5689  |   39      1       7    |  2359   23589    2389  \n",
      "------------------------+------------------------+------------------------\n",
      "  289      89      29   |   6      459      3    |  1259     7       4    \n",
      "   5       7       3    |   2      479      1    |   69      9       8    \n",
      "   1      6789     4    |   8      579     589   | 23569   23589    269   \n",
      "before only\n",
      "   4       69     2679  |   1      2369     69   |   8       23      5    \n",
      " 26789     3    1256789 |   4      2569    5689  | 12679     2     12679  \n",
      "  2689   15689    1256  |   7     23569    5689  |  2369    1234   12369  \n",
      "------------------------+------------------------+------------------------\n",
      "  3789     2     15789  |   5      3459     49   | 13579     6      1379  \n",
      "  3679    1569   15679  |  359      8       2    |   4      135     1379  \n",
      "  3689     4      5689  |   39      1       7    |  2359    2358    239   \n",
      "------------------------+------------------------+------------------------\n",
      "  289      89      29   |   6       59      3    |  125      7       4    \n",
      "   5       7       3    |   2       4       1    |   6       9       8    \n",
      "   1       69      4    |   8      579      59   |  2356    235      26   \n",
      "before naked\n",
      "   4       69      7    |   1      2369     69   |   8       23      5    \n",
      " 26789     3    1256789 |   4      2569    5689  | 12679     2     12679  \n",
      "  2689   15689    1256  |   7     23569    5689  |   6       4     12369  \n",
      "------------------------+------------------------+------------------------\n",
      "  3789     2     15789  |   5      3459     4    | 13579     6      1379  \n",
      "  3679    1569   15679  |  359      8       2    |   4       1      1379  \n",
      "  3689     4      5689  |   39      1       7    |  2359     8      239   \n",
      "------------------------+------------------------+------------------------\n",
      "  289      89      29   |   6       5       3    |   1       7       4    \n",
      "   5       7       3    |   2       4       1    |   6       9       8    \n",
      "   1       6       4    |   8       7       9    |  2356    235      26   \n",
      "before elim\n",
      "   4       69      7    |   1       23      69   |   8       23      5    \n",
      " 26789     3    1256789 |   4      2569    5689  | 12679     2     12679  \n",
      "  2689   15689    1256  |   7     23569    5689  |   6       4     12369  \n",
      "------------------------+------------------------+------------------------\n",
      "  3789     2     15789  |   5      3459     4    | 13579     6      1379  \n",
      "  3679    1569   15679  |  359      8       2    |   4       1      1379  \n",
      "  3689     4      5689  |   39      1       7    |  2359     8      239   \n",
      "------------------------+------------------------+------------------------\n",
      "  289      89      29   |   6       5       3    |   1       7       4    \n",
      "   5       7       3    |   2       4       1    |   6       9       8    \n",
      "   1       6       4    |   8       7       9    |  2356    235      26   \n",
      "before only\n",
      "  4     9     7   |  1     23    6   |  8     3     5   \n",
      " 689    3   15689 |  4     69   568  |  79    2    179  \n",
      " 289   1589   2   |  7    239    58  |  6     4    139  \n",
      "------------------+------------------+------------------\n",
      " 3789   2    189  |  5     39    4   | 379    6    379  \n",
      " 3679   59   569  |  39    8     2   |  4     1    379  \n",
      " 369    4    569  |  39    1     7   | 2359   8    239  \n",
      "------------------+------------------+------------------\n",
      " 289    89    9   |  6     5     3   |  1     7     4   \n",
      "  5     7     3   |  2     4     1   |        9     8   \n",
      "  1     6     4   |  8     7     9   | 235    35    2   \n",
      "before naked\n",
      " 4   9   7  | 1   2   6  | 8   3   5  \n",
      " 6   3   8  | 4   6  568 | 79  2  179 \n",
      "289  1   2  | 7   3   58 | 6   4  139 \n",
      "------------+------------+------------\n",
      " 8   2   1  | 5   39  4  |379  6  379 \n",
      " 7   5  569 | 39  8   2  | 4   1  379 \n",
      " 3   4  569 | 3   1   7  | 5   8  239 \n",
      "------------+------------+------------\n",
      " 2   8   9  | 6   5   3  | 1   7   4  \n",
      " 5   7   3  | 2   4   1  |     9   8  \n",
      " 1   6   4  | 8   7   9  | 3   5   2  \n",
      "last one to fail\n",
      " 4   9   7  | 1   2   6  | 8   3   5  \n",
      " 6   3   8  | 4   6  568 | 79  2  179 \n",
      "289  1   2  | 7   3   58 | 6   4  139 \n",
      "------------+------------+------------\n",
      " 8   2   1  | 5   39  4  |379  6  379 \n",
      " 7   5  569 | 39  8   2  | 4   1  379 \n",
      " 3   4  569 | 3   1   7  | 5   8   2  \n",
      "------------+------------+------------\n",
      " 2   8   9  | 6   5   3  | 1   7   4  \n",
      " 5   7   3  | 2   4   1  |     9   8  \n",
      " 1   6   4  | 8   7   9  | 3   5   2  \n"
     ]
    },
    {
     "ename": "TypeError",
     "evalue": "'bool' object is not subscriptable",
     "output_type": "error",
     "traceback": [
      "\u001b[0;31m---------------------------------------------------------------------------\u001b[0m",
      "\u001b[0;31mTypeError\u001b[0m                                 Traceback (most recent call last)",
      "\u001b[0;32m<ipython-input-188-d18884055983>\u001b[0m in \u001b[0;36m<module>\u001b[0;34m()\u001b[0m\n\u001b[0;32m----> 1\u001b[0;31m \u001b[0mdisplay\u001b[0m\u001b[0;34m(\u001b[0m\u001b[0msearch\u001b[0m\u001b[0;34m(\u001b[0m\u001b[0mgrid_values\u001b[0m\u001b[0;34m(\u001b[0m\u001b[0mtest_string2\u001b[0m\u001b[0;34m)\u001b[0m\u001b[0;34m)\u001b[0m\u001b[0;34m)\u001b[0m\u001b[0;34m\u001b[0m\u001b[0m\n\u001b[0m",
      "\u001b[0;32m<ipython-input-155-4447862e5a72>\u001b[0m in \u001b[0;36mdisplay\u001b[0;34m(values)\u001b[0m\n\u001b[1;32m      5\u001b[0m     \u001b[0mOutput\u001b[0m\u001b[0;34m:\u001b[0m \u001b[0;32mNone\u001b[0m\u001b[0;34m\u001b[0m\u001b[0m\n\u001b[1;32m      6\u001b[0m     \"\"\"\n\u001b[0;32m----> 7\u001b[0;31m     \u001b[0mwidth\u001b[0m \u001b[0;34m=\u001b[0m \u001b[0;36m1\u001b[0m\u001b[0;34m+\u001b[0m\u001b[0mmax\u001b[0m\u001b[0;34m(\u001b[0m\u001b[0mlen\u001b[0m\u001b[0;34m(\u001b[0m\u001b[0mvalues\u001b[0m\u001b[0;34m[\u001b[0m\u001b[0ms\u001b[0m\u001b[0;34m]\u001b[0m\u001b[0;34m)\u001b[0m \u001b[0;32mfor\u001b[0m \u001b[0ms\u001b[0m \u001b[0;32min\u001b[0m \u001b[0mboxes\u001b[0m\u001b[0;34m)\u001b[0m\u001b[0;34m\u001b[0m\u001b[0m\n\u001b[0m\u001b[1;32m      8\u001b[0m     \u001b[0mline\u001b[0m \u001b[0;34m=\u001b[0m \u001b[0;34m'+'\u001b[0m\u001b[0;34m.\u001b[0m\u001b[0mjoin\u001b[0m\u001b[0;34m(\u001b[0m\u001b[0;34m[\u001b[0m\u001b[0;34m'-'\u001b[0m\u001b[0;34m*\u001b[0m\u001b[0;34m(\u001b[0m\u001b[0mwidth\u001b[0m\u001b[0;34m*\u001b[0m\u001b[0;36m3\u001b[0m\u001b[0;34m)\u001b[0m\u001b[0;34m]\u001b[0m\u001b[0;34m*\u001b[0m\u001b[0;36m3\u001b[0m\u001b[0;34m)\u001b[0m\u001b[0;34m\u001b[0m\u001b[0m\n\u001b[1;32m      9\u001b[0m     \u001b[0;32mfor\u001b[0m \u001b[0mr\u001b[0m \u001b[0;32min\u001b[0m \u001b[0mrows\u001b[0m\u001b[0;34m:\u001b[0m\u001b[0;34m\u001b[0m\u001b[0m\n",
      "\u001b[0;32m<ipython-input-155-4447862e5a72>\u001b[0m in \u001b[0;36m<genexpr>\u001b[0;34m(.0)\u001b[0m\n\u001b[1;32m      5\u001b[0m     \u001b[0mOutput\u001b[0m\u001b[0;34m:\u001b[0m \u001b[0;32mNone\u001b[0m\u001b[0;34m\u001b[0m\u001b[0m\n\u001b[1;32m      6\u001b[0m     \"\"\"\n\u001b[0;32m----> 7\u001b[0;31m     \u001b[0mwidth\u001b[0m \u001b[0;34m=\u001b[0m \u001b[0;36m1\u001b[0m\u001b[0;34m+\u001b[0m\u001b[0mmax\u001b[0m\u001b[0;34m(\u001b[0m\u001b[0mlen\u001b[0m\u001b[0;34m(\u001b[0m\u001b[0mvalues\u001b[0m\u001b[0;34m[\u001b[0m\u001b[0ms\u001b[0m\u001b[0;34m]\u001b[0m\u001b[0;34m)\u001b[0m \u001b[0;32mfor\u001b[0m \u001b[0ms\u001b[0m \u001b[0;32min\u001b[0m \u001b[0mboxes\u001b[0m\u001b[0;34m)\u001b[0m\u001b[0;34m\u001b[0m\u001b[0m\n\u001b[0m\u001b[1;32m      8\u001b[0m     \u001b[0mline\u001b[0m \u001b[0;34m=\u001b[0m \u001b[0;34m'+'\u001b[0m\u001b[0;34m.\u001b[0m\u001b[0mjoin\u001b[0m\u001b[0;34m(\u001b[0m\u001b[0;34m[\u001b[0m\u001b[0;34m'-'\u001b[0m\u001b[0;34m*\u001b[0m\u001b[0;34m(\u001b[0m\u001b[0mwidth\u001b[0m\u001b[0;34m*\u001b[0m\u001b[0;36m3\u001b[0m\u001b[0;34m)\u001b[0m\u001b[0;34m]\u001b[0m\u001b[0;34m*\u001b[0m\u001b[0;36m3\u001b[0m\u001b[0;34m)\u001b[0m\u001b[0;34m\u001b[0m\u001b[0m\n\u001b[1;32m      9\u001b[0m     \u001b[0;32mfor\u001b[0m \u001b[0mr\u001b[0m \u001b[0;32min\u001b[0m \u001b[0mrows\u001b[0m\u001b[0;34m:\u001b[0m\u001b[0;34m\u001b[0m\u001b[0m\n",
      "\u001b[0;31mTypeError\u001b[0m: 'bool' object is not subscriptable"
     ]
    }
   ],
   "source": [
    "display(search(grid_values(test_string2)))"
   ]
  },
  {
   "cell_type": "code",
   "execution_count": null,
   "metadata": {
    "collapsed": true
   },
   "outputs": [],
   "source": []
  }
 ],
 "metadata": {
  "kernelspec": {
   "display_name": "Python 3",
   "language": "python",
   "name": "python3"
  },
  "language_info": {
   "codemirror_mode": {
    "name": "ipython",
    "version": 3
   },
   "file_extension": ".py",
   "mimetype": "text/x-python",
   "name": "python",
   "nbconvert_exporter": "python",
   "pygments_lexer": "ipython3",
   "version": "3.5.3"
  }
 },
 "nbformat": 4,
 "nbformat_minor": 2
}
